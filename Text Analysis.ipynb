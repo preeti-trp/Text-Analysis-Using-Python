{
 "cells": [
  {
   "cell_type": "markdown",
   "id": "515841d0",
   "metadata": {},
   "source": [
    "## Sentiment Analysis\n",
    "## By: Preeti Priyanka Tripathy\n"
   ]
  },
  {
   "cell_type": "code",
   "execution_count": 4,
   "id": "e230a33f-47e2-46f5-93e0-b2ad13674cd2",
   "metadata": {},
   "outputs": [
    {
     "name": "stdout",
     "output_type": "stream",
     "text": [
      "Collecting textblob\n",
      "  Downloading textblob-0.19.0-py3-none-any.whl.metadata (4.4 kB)\n",
      "Requirement already satisfied: nltk>=3.9 in c:\\users\\preet\\anaconda3\\lib\\site-packages (from textblob) (3.9.1)\n",
      "Requirement already satisfied: click in c:\\users\\preet\\anaconda3\\lib\\site-packages (from nltk>=3.9->textblob) (8.1.7)\n",
      "Requirement already satisfied: joblib in c:\\users\\preet\\anaconda3\\lib\\site-packages (from nltk>=3.9->textblob) (1.4.2)\n",
      "Requirement already satisfied: regex>=2021.8.3 in c:\\users\\preet\\anaconda3\\lib\\site-packages (from nltk>=3.9->textblob) (2024.9.11)\n",
      "Requirement already satisfied: tqdm in c:\\users\\preet\\anaconda3\\lib\\site-packages (from nltk>=3.9->textblob) (4.66.5)\n",
      "Requirement already satisfied: colorama in c:\\users\\preet\\anaconda3\\lib\\site-packages (from click->nltk>=3.9->textblob) (0.4.6)\n",
      "Downloading textblob-0.19.0-py3-none-any.whl (624 kB)\n",
      "   ---------------------------------------- 0.0/624.3 kB ? eta -:--:--\n",
      "   ---------------------------------------- 0.0/624.3 kB ? eta -:--:--\n",
      "   ---------------- ----------------------- 262.1/624.3 kB ? eta -:--:--\n",
      "   ---------------------------------------- 624.3/624.3 kB 3.3 MB/s eta 0:00:00\n",
      "Installing collected packages: textblob\n",
      "Successfully installed textblob-0.19.0\n"
     ]
    }
   ],
   "source": [
    "!pip install textblob "
   ]
  },
  {
   "cell_type": "code",
   "execution_count": 8,
   "id": "2023744e",
   "metadata": {
    "scrolled": true
   },
   "outputs": [
    {
     "data": {
      "text/html": [
       "<div>\n",
       "<style scoped>\n",
       "    .dataframe tbody tr th:only-of-type {\n",
       "        vertical-align: middle;\n",
       "    }\n",
       "\n",
       "    .dataframe tbody tr th {\n",
       "        vertical-align: top;\n",
       "    }\n",
       "\n",
       "    .dataframe thead th {\n",
       "        text-align: right;\n",
       "    }\n",
       "</style>\n",
       "<table border=\"1\" class=\"dataframe\">\n",
       "  <thead>\n",
       "    <tr style=\"text-align: right;\">\n",
       "      <th></th>\n",
       "      <th>text</th>\n",
       "    </tr>\n",
       "  </thead>\n",
       "  <tbody>\n",
       "    <tr>\n",
       "      <th>0</th>\n",
       "      <td>Just landed my first job offer 🎉</td>\n",
       "    </tr>\n",
       "    <tr>\n",
       "      <th>1</th>\n",
       "      <td>Traffic jam ruined my whole evening 😡</td>\n",
       "    </tr>\n",
       "    <tr>\n",
       "      <th>2</th>\n",
       "      <td>Had a productive workout session 💪</td>\n",
       "    </tr>\n",
       "    <tr>\n",
       "      <th>3</th>\n",
       "      <td>I'm not sure how I feel about this news.</td>\n",
       "    </tr>\n",
       "    <tr>\n",
       "      <th>4</th>\n",
       "      <td>Such a breathtaking sunset today 🌅</td>\n",
       "    </tr>\n",
       "  </tbody>\n",
       "</table>\n",
       "</div>"
      ],
      "text/plain": [
       "                                       text\n",
       "0          Just landed my first job offer 🎉\n",
       "1     Traffic jam ruined my whole evening 😡\n",
       "2        Had a productive workout session 💪\n",
       "3  I'm not sure how I feel about this news.\n",
       "4        Such a breathtaking sunset today 🌅"
      ]
     },
     "execution_count": 8,
     "metadata": {},
     "output_type": "execute_result"
    }
   ],
   "source": [
    "#Importing Libraries\n",
    "import seaborn as sns\n",
    "import pandas as pd\n",
    "import re   # Regular expressions module \n",
    "from textblob import TextBlob # for extracting sentiments\n",
    "import matplotlib.pyplot as plt\n",
    "\n",
    "\n",
    "# Create a sample dataset with more comments\n",
    "data = {\n",
    "    'text': [\n",
    "        \"Just landed my first job offer 🎉\",\n",
    "\"Traffic jam ruined my whole evening 😡\",\n",
    "\"Had a productive workout session 💪\",\n",
    "\"I'm not sure how I feel about this news.\",\n",
    "\"Such a breathtaking sunset today 🌅\",\n",
    "\"Feeling sick and exhausted 🤒\",\n",
    "\"Work deadlines are stressful but motivating.\",\n",
    "\"Happy to reconnect with an old friend 😊\",\n",
    "\"This gadget is overpriced and disappointing.\",\n",
    "\"Life feels unpredictable these days.\",\n",
    "\"Delicious food makes everything better 🍕\" ,\n",
    "\"Missed my flight, what a disaster!\",\n",
    "\"Excited to start my new project tomorrow!\",\n",
    "\"The service at this restaurant was terrible.\",\n",
    "\"Calmly waiting for the results.\",\n",
    "\"Lost my phone today, really upset 😔\",\n",
    "\"Grateful for small wins along the way 🙏\",\n",
    "\"Not bad, but could have been better.\",\n",
    "\"Over the moon about this achievement 🌙\",\n",
    "\"Wish things had turned out differently.\",\n",
    "\"Enjoying the rain with a hot cup of tea ☕\",\n",
    "\"Feeling anxious about the big presentation.\",\n",
    "\"Nothing special happened today.\",\n",
    "\"Best concert experience ever! 🎶\",\n",
    "\"Still processing everything that happened.\",\n",
    "    ]\n",
    "}\n",
    "\n",
    "# Create DataFrame\n",
    "comments = pd.DataFrame(data)\n",
    "comments.head()"
   ]
  },
  {
   "cell_type": "code",
   "execution_count": 10,
   "id": "722624b4-4b97-413e-9f6c-64ab8f2265a3",
   "metadata": {},
   "outputs": [
    {
     "name": "stdout",
     "output_type": "stream",
     "text": [
      "<class 'pandas.core.frame.DataFrame'>\n",
      "RangeIndex: 25 entries, 0 to 24\n",
      "Data columns (total 1 columns):\n",
      " #   Column  Non-Null Count  Dtype \n",
      "---  ------  --------------  ----- \n",
      " 0   text    25 non-null     object\n",
      "dtypes: object(1)\n",
      "memory usage: 332.0+ bytes\n"
     ]
    }
   ],
   "source": [
    "comments.info()"
   ]
  },
  {
   "cell_type": "markdown",
   "id": "36166f42",
   "metadata": {},
   "source": [
    "##### Cleaning Text"
   ]
  },
  {
   "cell_type": "code",
   "execution_count": 16,
   "id": "a1ea8374",
   "metadata": {},
   "outputs": [
    {
     "data": {
      "text/html": [
       "<div>\n",
       "<style scoped>\n",
       "    .dataframe tbody tr th:only-of-type {\n",
       "        vertical-align: middle;\n",
       "    }\n",
       "\n",
       "    .dataframe tbody tr th {\n",
       "        vertical-align: top;\n",
       "    }\n",
       "\n",
       "    .dataframe thead th {\n",
       "        text-align: right;\n",
       "    }\n",
       "</style>\n",
       "<table border=\"1\" class=\"dataframe\">\n",
       "  <thead>\n",
       "    <tr style=\"text-align: right;\">\n",
       "      <th></th>\n",
       "      <th>text</th>\n",
       "      <th>clean_text</th>\n",
       "    </tr>\n",
       "  </thead>\n",
       "  <tbody>\n",
       "    <tr>\n",
       "      <th>0</th>\n",
       "      <td>Just landed my first job offer 🎉</td>\n",
       "      <td>just landed my first job offer</td>\n",
       "    </tr>\n",
       "    <tr>\n",
       "      <th>1</th>\n",
       "      <td>Traffic jam ruined my whole evening 😡</td>\n",
       "      <td>traffic jam ruined my whole evening</td>\n",
       "    </tr>\n",
       "    <tr>\n",
       "      <th>2</th>\n",
       "      <td>Had a productive workout session 💪</td>\n",
       "      <td>had a productive workout session</td>\n",
       "    </tr>\n",
       "    <tr>\n",
       "      <th>3</th>\n",
       "      <td>I'm not sure how I feel about this news.</td>\n",
       "      <td>im not sure how i feel about this news</td>\n",
       "    </tr>\n",
       "    <tr>\n",
       "      <th>4</th>\n",
       "      <td>Such a breathtaking sunset today 🌅</td>\n",
       "      <td>such a breathtaking sunset today</td>\n",
       "    </tr>\n",
       "  </tbody>\n",
       "</table>\n",
       "</div>"
      ],
      "text/plain": [
       "                                       text  \\\n",
       "0          Just landed my first job offer 🎉   \n",
       "1     Traffic jam ruined my whole evening 😡   \n",
       "2        Had a productive workout session 💪   \n",
       "3  I'm not sure how I feel about this news.   \n",
       "4        Such a breathtaking sunset today 🌅   \n",
       "\n",
       "                               clean_text  \n",
       "0         just landed my first job offer   \n",
       "1    traffic jam ruined my whole evening   \n",
       "2       had a productive workout session   \n",
       "3  im not sure how i feel about this news  \n",
       "4       such a breathtaking sunset today   "
      ]
     },
     "execution_count": 16,
     "metadata": {},
     "output_type": "execute_result"
    }
   ],
   "source": [
    "def clean_text(text):\n",
    "    # Remove URL\n",
    "    text = re.sub(r'http\\S+', '', text)\n",
    "    # Remove special characters and digits\n",
    "    text = re.sub(r'[^\\w\\s]', '', text) #special char\n",
    "    text = re.sub(r'\\d+', '', text) #digits\n",
    "    # Convert to lowercase\n",
    "    text = text.lower()\n",
    "    return text\n",
    "\n",
    "# Apply text cleaning to the 'text' column\n",
    "comments['clean_text'] = comments['text'].apply(clean_text)\n",
    "\n",
    "comments.head()"
   ]
  },
  {
   "cell_type": "markdown",
   "id": "7c9cac88",
   "metadata": {},
   "source": [
    "##### Sentiment Analysis using TextBlob"
   ]
  },
  {
   "cell_type": "code",
   "execution_count": 20,
   "id": "eb75097a",
   "metadata": {},
   "outputs": [
    {
     "data": {
      "text/html": [
       "<div>\n",
       "<style scoped>\n",
       "    .dataframe tbody tr th:only-of-type {\n",
       "        vertical-align: middle;\n",
       "    }\n",
       "\n",
       "    .dataframe tbody tr th {\n",
       "        vertical-align: top;\n",
       "    }\n",
       "\n",
       "    .dataframe thead th {\n",
       "        text-align: right;\n",
       "    }\n",
       "</style>\n",
       "<table border=\"1\" class=\"dataframe\">\n",
       "  <thead>\n",
       "    <tr style=\"text-align: right;\">\n",
       "      <th></th>\n",
       "      <th>text</th>\n",
       "      <th>clean_text</th>\n",
       "      <th>sentiment</th>\n",
       "    </tr>\n",
       "  </thead>\n",
       "  <tbody>\n",
       "    <tr>\n",
       "      <th>0</th>\n",
       "      <td>Just landed my first job offer 🎉</td>\n",
       "      <td>just landed my first job offer</td>\n",
       "      <td>0.25</td>\n",
       "    </tr>\n",
       "    <tr>\n",
       "      <th>1</th>\n",
       "      <td>Traffic jam ruined my whole evening 😡</td>\n",
       "      <td>traffic jam ruined my whole evening</td>\n",
       "      <td>0.20</td>\n",
       "    </tr>\n",
       "    <tr>\n",
       "      <th>2</th>\n",
       "      <td>Had a productive workout session 💪</td>\n",
       "      <td>had a productive workout session</td>\n",
       "      <td>0.00</td>\n",
       "    </tr>\n",
       "    <tr>\n",
       "      <th>3</th>\n",
       "      <td>I'm not sure how I feel about this news.</td>\n",
       "      <td>im not sure how i feel about this news</td>\n",
       "      <td>-0.25</td>\n",
       "    </tr>\n",
       "    <tr>\n",
       "      <th>4</th>\n",
       "      <td>Such a breathtaking sunset today 🌅</td>\n",
       "      <td>such a breathtaking sunset today</td>\n",
       "      <td>0.50</td>\n",
       "    </tr>\n",
       "  </tbody>\n",
       "</table>\n",
       "</div>"
      ],
      "text/plain": [
       "                                       text  \\\n",
       "0          Just landed my first job offer 🎉   \n",
       "1     Traffic jam ruined my whole evening 😡   \n",
       "2        Had a productive workout session 💪   \n",
       "3  I'm not sure how I feel about this news.   \n",
       "4        Such a breathtaking sunset today 🌅   \n",
       "\n",
       "                               clean_text  sentiment  \n",
       "0         just landed my first job offer        0.25  \n",
       "1    traffic jam ruined my whole evening        0.20  \n",
       "2       had a productive workout session        0.00  \n",
       "3  im not sure how i feel about this news      -0.25  \n",
       "4       such a breathtaking sunset today        0.50  "
      ]
     },
     "execution_count": 20,
     "metadata": {},
     "output_type": "execute_result"
    }
   ],
   "source": [
    "# Function to get sentiment polarity using TextBlob\n",
    "def get_sentiment(text):\n",
    "    analysis = TextBlob(text)\n",
    "    return analysis.sentiment.polarity\n",
    "\n",
    "# Apply sentiment analysis to the cleaned text\n",
    "comments['sentiment'] = comments['clean_text'].apply(get_sentiment)\n",
    "\n",
    "comments.head()"
   ]
  },
  {
   "cell_type": "code",
   "execution_count": 22,
   "id": "9233e7d5",
   "metadata": {},
   "outputs": [
    {
     "data": {
      "text/html": [
       "<div>\n",
       "<style scoped>\n",
       "    .dataframe tbody tr th:only-of-type {\n",
       "        vertical-align: middle;\n",
       "    }\n",
       "\n",
       "    .dataframe tbody tr th {\n",
       "        vertical-align: top;\n",
       "    }\n",
       "\n",
       "    .dataframe thead th {\n",
       "        text-align: right;\n",
       "    }\n",
       "</style>\n",
       "<table border=\"1\" class=\"dataframe\">\n",
       "  <thead>\n",
       "    <tr style=\"text-align: right;\">\n",
       "      <th></th>\n",
       "      <th>text</th>\n",
       "      <th>clean_text</th>\n",
       "      <th>sentiment</th>\n",
       "      <th>sentiment_category</th>\n",
       "    </tr>\n",
       "  </thead>\n",
       "  <tbody>\n",
       "    <tr>\n",
       "      <th>0</th>\n",
       "      <td>Just landed my first job offer 🎉</td>\n",
       "      <td>just landed my first job offer</td>\n",
       "      <td>0.25</td>\n",
       "      <td>Positive</td>\n",
       "    </tr>\n",
       "    <tr>\n",
       "      <th>1</th>\n",
       "      <td>Traffic jam ruined my whole evening 😡</td>\n",
       "      <td>traffic jam ruined my whole evening</td>\n",
       "      <td>0.20</td>\n",
       "      <td>Positive</td>\n",
       "    </tr>\n",
       "    <tr>\n",
       "      <th>2</th>\n",
       "      <td>Had a productive workout session 💪</td>\n",
       "      <td>had a productive workout session</td>\n",
       "      <td>0.00</td>\n",
       "      <td>Neutral</td>\n",
       "    </tr>\n",
       "    <tr>\n",
       "      <th>3</th>\n",
       "      <td>I'm not sure how I feel about this news.</td>\n",
       "      <td>im not sure how i feel about this news</td>\n",
       "      <td>-0.25</td>\n",
       "      <td>Negative</td>\n",
       "    </tr>\n",
       "    <tr>\n",
       "      <th>4</th>\n",
       "      <td>Such a breathtaking sunset today 🌅</td>\n",
       "      <td>such a breathtaking sunset today</td>\n",
       "      <td>0.50</td>\n",
       "      <td>Positive</td>\n",
       "    </tr>\n",
       "  </tbody>\n",
       "</table>\n",
       "</div>"
      ],
      "text/plain": [
       "                                       text  \\\n",
       "0          Just landed my first job offer 🎉   \n",
       "1     Traffic jam ruined my whole evening 😡   \n",
       "2        Had a productive workout session 💪   \n",
       "3  I'm not sure how I feel about this news.   \n",
       "4        Such a breathtaking sunset today 🌅   \n",
       "\n",
       "                               clean_text  sentiment sentiment_category  \n",
       "0         just landed my first job offer        0.25           Positive  \n",
       "1    traffic jam ruined my whole evening        0.20           Positive  \n",
       "2       had a productive workout session        0.00            Neutral  \n",
       "3  im not sure how i feel about this news      -0.25           Negative  \n",
       "4       such a breathtaking sunset today        0.50           Positive  "
      ]
     },
     "execution_count": 22,
     "metadata": {},
     "output_type": "execute_result"
    }
   ],
   "source": [
    "# Function to categorize sentiment\n",
    "def categorize_sentiment(sentiment):\n",
    "    if sentiment > 0:\n",
    "        return 'Positive'\n",
    "    elif sentiment == 0:\n",
    "        return 'Neutral'\n",
    "    else:\n",
    "        return 'Negative'\n",
    "\n",
    "# Create new column for sentiment category\n",
    "comments['sentiment_category'] = comments['sentiment'].apply(categorize_sentiment)\n",
    "\n",
    "comments.head()"
   ]
  },
  {
   "cell_type": "code",
   "execution_count": 33,
   "id": "f0dc59d1",
   "metadata": {},
   "outputs": [
    {
     "name": "stderr",
     "output_type": "stream",
     "text": [
      "C:\\Users\\preet\\AppData\\Local\\Temp\\ipykernel_20180\\400978260.py:4: FutureWarning: \n",
      "\n",
      "Passing `palette` without assigning `hue` is deprecated and will be removed in v0.14.0. Assign the `x` variable to `hue` and set `legend=False` for the same effect.\n",
      "\n",
      "  sns.countplot(x='sentiment_category', data=comments, palette='viridis')\n"
     ]
    },
    {
     "data": {
      "image/png": "[encoded data removed]",
      "text/plain": [
       "<Figure size 1000x600 with 1 Axes>"
      ]
     },
     "metadata": {},
     "output_type": "display_data"
    },
    {
     "name": "stdout",
     "output_type": "stream",
     "text": [
      "sentiment_category\n",
      "Positive    13\n",
      "Neutral      6\n",
      "Negative     6\n",
      "Name: count, dtype: int64\n"
     ]
    }
   ],
   "source": [
    "# Plotting sentiment count using Seaborn library\n",
    "\n",
    "plt.figure(figsize=(10, 6))\n",
    "sns.countplot(x='sentiment_category', data=comments, palette='viridis')\n",
    "plt.title('Sentiment Analysis of Comments')\n",
    "plt.xlabel('Sentiment Category')\n",
    "plt.ylabel('Count')\n",
    "plt.show()\n",
    "\n",
    "print(comments['sentiment_category'].value_counts())"
   ]
  },
  {
   "cell_type": "code",
   "execution_count": null,
   "id": "0800d031",
   "metadata": {},
   "outputs": [],
   "source": []
  }
 ],
 "metadata": {
  "kernelspec": {
   "display_name": "Python [conda env:base] *",
   "language": "python",
   "name": "conda-base-py"
  },
  "language_info": {
   "codemirror_mode": {
    "name": "ipython",
    "version": 3
   },
   "file_extension": ".py",
   "mimetype": "text/x-python",
   "name": "python",
   "nbconvert_exporter": "python",
   "pygments_lexer": "ipython3",
   "version": "3.12.7"
  }
 },
 "nbformat": 4,
 "nbformat_minor": 5
}
